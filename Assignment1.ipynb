{
 "cells": [
  {
   "cell_type": "code",
   "execution_count": 1,
   "id": "378fade2",
   "metadata": {},
   "outputs": [
    {
     "name": "stdout",
     "output_type": "stream",
     "text": [
      "Twinkle, twinkle, little star,\n",
      "\t How i wonder what you are!\n",
      "\t\tUp above the world so high,\n",
      "\t\tLike a diamond in the sky.\n",
      " Twinkle, twinkle, little star,\n",
      "\t How i wonder what you are\n"
     ]
    }
   ],
   "source": [
    "\"\"\" Q1) Write a python program to print the following string in a specific format(see the output)\n",
    "            Twinkle, twinkle, little star,\n",
    "                     How i wonder what you are!\n",
    "                            Up above the world so high,\n",
    "                            Like a diamond in the sky.\n",
    "            Twinkle, twinkle, little star,\n",
    "                      How i wonder what you are \"\"\"\n",
    "\n",
    "print(\"Twinkle, twinkle, little star,\\n\\t How i wonder what you are!\\n\\t\\tUp above the world so high,\\n\\t\\tLike a diamond in the sky.\\n Twinkle, twinkle, little star,\\n\\t How i wonder what you are\");\n",
    "      "
   ]
  },
  {
   "cell_type": "code",
   "execution_count": 2,
   "id": "3937a208",
   "metadata": {},
   "outputs": [
    {
     "name": "stdout",
     "output_type": "stream",
     "text": [
      "Python Version\n",
      "3.9.7 (default, Sep 16 2021, 16:59:28) [MSC v.1916 64 bit (AMD64)]\n"
     ]
    }
   ],
   "source": [
    "\"\"\" Q2) Write a python program to get the python version you are using \"\"\"\n",
    "import sys\n",
    "print(\"Python Version\")\n",
    "print (sys.version)"
   ]
  },
  {
   "cell_type": "code",
   "execution_count": 3,
   "id": "5a7264d8",
   "metadata": {},
   "outputs": [
    {
     "name": "stdout",
     "output_type": "stream",
     "text": [
      "Current date and time : \n",
      "2022-01-01 19:52:01\n"
     ]
    }
   ],
   "source": [
    "\"\"\" Q3) Write a Python program to display the current date and time \"\"\"\n",
    "import datetime\n",
    "now = datetime.datetime.now()\n",
    "print(\"Current date and time : \")\n",
    "print (now.strftime(\"%Y-%m-%d %H:%M:%S\"))\n"
   ]
  },
  {
   "cell_type": "code",
   "execution_count": 6,
   "id": "027d5292",
   "metadata": {},
   "outputs": [
    {
     "name": "stdout",
     "output_type": "stream",
     "text": [
      "Input the radius of the circle : 6\n",
      "The area of a circle with radius 6.0 is : 113.09733552923255\n"
     ]
    }
   ],
   "source": [
    "\"\"\" Q4) Write a Python program which accepts the radius of a circle from the user and compute the area \"\"\"\n",
    "from math import pi\n",
    "r = float(input(\"Input the radius of the circle : \"))\n",
    "print(\"The area of a circle with radius \" + str(r) + \" is : \" + str(pi * r**2))\n",
    "\n"
   ]
  },
  {
   "cell_type": "code",
   "execution_count": 8,
   "id": "b6ed73f1",
   "metadata": {},
   "outputs": [
    {
     "name": "stdout",
     "output_type": "stream",
     "text": [
      "Input your First Name :Arooj\n",
      "Input your Last Name : Fatima\n",
      "Hello Fatima Arooj\n"
     ]
    }
   ],
   "source": [
    "\"\"\" Q5) Write a Python program which accepts the user's fiest and last name and print them in reverse order with a\n",
    "      space between them \"\"\"\n",
    "fname = input(\"Input your First Name :\")\n",
    "lname = input(\"Input your Last Name : \")\n",
    "print (\"Hello \" +lname + \" \" +fname)\n",
    "\n",
    "\n"
   ]
  },
  {
   "cell_type": "code",
   "execution_count": 20,
   "id": "04d4dafc",
   "metadata": {},
   "outputs": [
    {
     "name": "stdout",
     "output_type": "stream",
     "text": [
      "Input First Number :10\n",
      "Input Second Number :40\n",
      "50\n"
     ]
    }
   ],
   "source": [
    "\"\"\" Q6) Write a Python program which takes two inputs from user and print them addition\"\"\"\n",
    "a = input (\"Input First Number :\")\n",
    "b = input (\"Input Second Number :\")\n",
    "c =int(a) + int(b)\n",
    "print(c)"
   ]
  },
  {
   "cell_type": "code",
   "execution_count": null,
   "id": "2c2e57b2",
   "metadata": {},
   "outputs": [],
   "source": []
  },
  {
   "cell_type": "code",
   "execution_count": null,
   "id": "bd497c1f",
   "metadata": {},
   "outputs": [],
   "source": []
  }
 ],
 "metadata": {
  "kernelspec": {
   "display_name": "Python 3 (ipykernel)",
   "language": "python",
   "name": "python3"
  },
  "language_info": {
   "codemirror_mode": {
    "name": "ipython",
    "version": 3
   },
   "file_extension": ".py",
   "mimetype": "text/x-python",
   "name": "python",
   "nbconvert_exporter": "python",
   "pygments_lexer": "ipython3",
   "version": "3.9.7"
  }
 },
 "nbformat": 4,
 "nbformat_minor": 5
}
